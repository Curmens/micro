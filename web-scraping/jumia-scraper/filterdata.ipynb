{
 "metadata": {
  "language_info": {
   "codemirror_mode": {
    "name": "ipython",
    "version": 3
   },
   "file_extension": ".py",
   "mimetype": "text/x-python",
   "name": "python",
   "nbconvert_exporter": "python",
   "pygments_lexer": "ipython3",
   "version": "3.7.4-final"
  },
  "orig_nbformat": 2,
  "kernelspec": {
   "name": "python37432bitd6038fbf494e42e98b6f51215ac3d476",
   "display_name": "Python 3.7.4 32-bit"
  }
 },
 "nbformat": 4,
 "nbformat_minor": 2,
 "cells": [
  {
   "cell_type": "code",
   "execution_count": 24,
   "metadata": {},
   "outputs": [],
   "source": [
    "import pandas as pd\n",
    "import numpy as np\n",
    "\n",
    "\n",
    "filename = 'laptop_data.csv'"
   ]
  },
  {
   "cell_type": "code",
   "execution_count": 38,
   "metadata": {
    "tags": []
   },
   "outputs": [
    {
     "output_type": "execute_result",
     "data": {
      "text/plain": "                                           Product Name  New Price  Old Price  \\\n8     DELL Inspiron 15-15 30005 - 2.7GHz Intel Core ...     2680.0       9000   \n9     Apple MacBook Pro - 13.3\" - Intel Core i5 @2.9...    11552.0       2900   \n10    N1001 Netbook PC - 10.1\" - Dual-Core - 1GB RAM...      619.0       7500   \n49    Hp Pavilion x360 - 14m-cd0001dx - CoreTM i3 81...     3389.0       3800   \n53    Lenovo Yoga C740 2-in-1 Touch-Screen -  15.6\" ...     4899.0       6000   \n56    Hp Pavilion 15-cs3063cl  FHD IPS Touchscreen L...     3959.0       2590   \n58    DELL Vostro 15 3000 Series - 15.6\"- Intel Core...     2379.0       4500   \n96    15.6-inch New Laptop Ultra-thin And Convenient...     2136.0       3194   \n99    DELL Vostro 5581- Intel Core i7- 8th Gen- 8GB ...     7000.0       3185   \n100   Jumper ezbook S4 ultra-thin laptop full new 14...     2130.0        620   \n103   UK Aluminum Laptop Stand Tablet Desk Holder Do...      161.0       4200   \n144   UK Aluminum Laptop Stand Tablet Desk Holder Do...      161.0        322   \n625   2Gb+16Gb Sim Card Version Portable Tablet Pc F...     2007.0       3001   \n1009  Wired Gaming Microphone 360° Adjustable Conden...      153.0        220   \n1488  Sport In-ear Earphone Stereo Bass Sport Wire H...       73.0        133   \n1489  Tempered Glass Screen Protector Compatible wit...       22.0         44   \n\n          Rating  \n8     5 out of 5  \n9     5 out of 5  \n10    5 out of 5  \n49    5 out of 5  \n53    5 out of 5  \n56    5 out of 5  \n58    5 out of 5  \n96    5 out of 5  \n99    5 out of 5  \n100   5 out of 5  \n103   5 out of 5  \n144   5 out of 5  \n625   5 out of 5  \n1009  5 out of 5  \n1488  5 out of 5  \n1489  5 out of 5  ",
      "text/html": "<div>\n<style scoped>\n    .dataframe tbody tr th:only-of-type {\n        vertical-align: middle;\n    }\n\n    .dataframe tbody tr th {\n        vertical-align: top;\n    }\n\n    .dataframe thead th {\n        text-align: right;\n    }\n</style>\n<table border=\"1\" class=\"dataframe\">\n  <thead>\n    <tr style=\"text-align: right;\">\n      <th></th>\n      <th>Product Name</th>\n      <th>New Price</th>\n      <th>Old Price</th>\n      <th>Rating</th>\n    </tr>\n  </thead>\n  <tbody>\n    <tr>\n      <th>8</th>\n      <td>DELL Inspiron 15-15 30005 - 2.7GHz Intel Core ...</td>\n      <td>2680.0</td>\n      <td>9000</td>\n      <td>5 out of 5</td>\n    </tr>\n    <tr>\n      <th>9</th>\n      <td>Apple MacBook Pro - 13.3\" - Intel Core i5 @2.9...</td>\n      <td>11552.0</td>\n      <td>2900</td>\n      <td>5 out of 5</td>\n    </tr>\n    <tr>\n      <th>10</th>\n      <td>N1001 Netbook PC - 10.1\" - Dual-Core - 1GB RAM...</td>\n      <td>619.0</td>\n      <td>7500</td>\n      <td>5 out of 5</td>\n    </tr>\n    <tr>\n      <th>49</th>\n      <td>Hp Pavilion x360 - 14m-cd0001dx - CoreTM i3 81...</td>\n      <td>3389.0</td>\n      <td>3800</td>\n      <td>5 out of 5</td>\n    </tr>\n    <tr>\n      <th>53</th>\n      <td>Lenovo Yoga C740 2-in-1 Touch-Screen -  15.6\" ...</td>\n      <td>4899.0</td>\n      <td>6000</td>\n      <td>5 out of 5</td>\n    </tr>\n    <tr>\n      <th>56</th>\n      <td>Hp Pavilion 15-cs3063cl  FHD IPS Touchscreen L...</td>\n      <td>3959.0</td>\n      <td>2590</td>\n      <td>5 out of 5</td>\n    </tr>\n    <tr>\n      <th>58</th>\n      <td>DELL Vostro 15 3000 Series - 15.6\"- Intel Core...</td>\n      <td>2379.0</td>\n      <td>4500</td>\n      <td>5 out of 5</td>\n    </tr>\n    <tr>\n      <th>96</th>\n      <td>15.6-inch New Laptop Ultra-thin And Convenient...</td>\n      <td>2136.0</td>\n      <td>3194</td>\n      <td>5 out of 5</td>\n    </tr>\n    <tr>\n      <th>99</th>\n      <td>DELL Vostro 5581- Intel Core i7- 8th Gen- 8GB ...</td>\n      <td>7000.0</td>\n      <td>3185</td>\n      <td>5 out of 5</td>\n    </tr>\n    <tr>\n      <th>100</th>\n      <td>Jumper ezbook S4 ultra-thin laptop full new 14...</td>\n      <td>2130.0</td>\n      <td>620</td>\n      <td>5 out of 5</td>\n    </tr>\n    <tr>\n      <th>103</th>\n      <td>UK Aluminum Laptop Stand Tablet Desk Holder Do...</td>\n      <td>161.0</td>\n      <td>4200</td>\n      <td>5 out of 5</td>\n    </tr>\n    <tr>\n      <th>144</th>\n      <td>UK Aluminum Laptop Stand Tablet Desk Holder Do...</td>\n      <td>161.0</td>\n      <td>322</td>\n      <td>5 out of 5</td>\n    </tr>\n    <tr>\n      <th>625</th>\n      <td>2Gb+16Gb Sim Card Version Portable Tablet Pc F...</td>\n      <td>2007.0</td>\n      <td>3001</td>\n      <td>5 out of 5</td>\n    </tr>\n    <tr>\n      <th>1009</th>\n      <td>Wired Gaming Microphone 360° Adjustable Conden...</td>\n      <td>153.0</td>\n      <td>220</td>\n      <td>5 out of 5</td>\n    </tr>\n    <tr>\n      <th>1488</th>\n      <td>Sport In-ear Earphone Stereo Bass Sport Wire H...</td>\n      <td>73.0</td>\n      <td>133</td>\n      <td>5 out of 5</td>\n    </tr>\n    <tr>\n      <th>1489</th>\n      <td>Tempered Glass Screen Protector Compatible wit...</td>\n      <td>22.0</td>\n      <td>44</td>\n      <td>5 out of 5</td>\n    </tr>\n  </tbody>\n</table>\n</div>"
     },
     "metadata": {},
     "execution_count": 38
    }
   ],
   "source": [
    "\n",
    "df = pd.read_csv(filename)\n",
    "\n",
    "df = df.dropna(thresh=2)\n",
    "values = {'Product Name': 'Not listed', 'New Price': 0, 'Old Price': 0, 'Rating': 'Not Rated'}\n",
    "df = df.fillna(value=values)\n",
    "df.count()\n",
    "# df_filtered = df[df['Product Name'] == 'Not listed']\n",
    "df_filtered = df[df['Rating'] == '5 out of 5']\n",
    "df_filtered\n",
    "\n",
    "# df\n"
   ]
  },
  {
   "cell_type": "code",
   "execution_count": 47,
   "metadata": {
    "tags": []
   },
   "outputs": [
    {
     "output_type": "execute_result",
     "data": {
      "text/plain": "'this+is+a+project'"
     },
     "metadata": {},
     "execution_count": 47
    }
   ],
   "source": [
    "\n",
    "\n",
    "\n"
   ]
  }
 ]
}